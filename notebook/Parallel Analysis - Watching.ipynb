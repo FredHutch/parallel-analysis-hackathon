{
 "cells": [
  {
   "cell_type": "markdown",
   "metadata": {},
   "source": [
    "# Parallel Analysis - Watch for Results\n",
    "\n",
    "This notebook watches a parallel analysis that has already been started.\n",
    "\n",
    "You can learn more at [GITHUB LINK](ADD REPO URL HERE)\n",
    "\n",
    "The steps are:\n",
    "\n",
    "* Create the code\n",
    "* Configure AWS connection\n",
    "* Enter the name of the parallel analysis you started\n",
    "* See the state of the processing\n",
    "* Download the output of the analysis to your computer\n",
    "* (Optional) Copy the logs of each analysis back to your computer\n",
    "\n",
    "### Step A - Create the Code\n",
    "\n",
    "1. Import the necessary libraries\n",
    "2. Create the functions we'll use\n",
    "\n",
    "\n",
    "#### Step A1 - Import libraries"
   ]
  },
  {
   "cell_type": "code",
   "execution_count": 1,
   "metadata": {},
   "outputs": [],
   "source": [
    "from __future__ import print_function\n",
    "from ipywidgets import interact, interactive, fixed, interact_manual\n",
    "import ipywidgets as widgets\n",
    "\n",
    "import boto3\n",
    "import os.path\n",
    "import sys\n",
    "import datetime"
   ]
  },
  {
   "cell_type": "markdown",
   "metadata": {},
   "source": [
    "#### Step A2 - Create the functions we'll use"
   ]
  },
  {
   "cell_type": "code",
   "execution_count": null,
   "metadata": {},
   "outputs": [],
   "source": [
    "def download_analysis(local_dir, s3_bucket, s3_prefix, client):\n",
    "    #"
   ]
  },
  {
   "cell_type": "code",
   "execution_count": null,
   "metadata": {},
   "outputs": [],
   "source": []
  },
  {
   "cell_type": "code",
   "execution_count": null,
   "metadata": {},
   "outputs": [],
   "source": []
  },
  {
   "cell_type": "markdown",
   "metadata": {},
   "source": [
    "### Step B - Configure AWS connection\n",
    "\n",
    "1. Configure AWS account\n",
    "2. Configure AWS credentials (e.g. access key and secret key)"
   ]
  },
  {
   "cell_type": "code",
   "execution_count": 2,
   "metadata": {},
   "outputs": [
    {
     "data": {
      "application/vnd.jupyter.widget-view+json": {
       "model_id": "06685384d85c4fe1bcf1a6a6138d76e5",
       "version_major": 2,
       "version_minor": 0
      },
      "text/plain": [
       "Text(value='', description='AWS Profile:', placeholder='default / sandbox')"
      ]
     },
     "metadata": {},
     "output_type": "display_data"
    }
   ],
   "source": [
    "profile_widget = widgets.Text(\n",
    "    value='',\n",
    "    placeholder='default / sandbox',\n",
    "    description='AWS Profile:',\n",
    "    disabled=False\n",
    ")\n",
    "display(profile_widget)"
   ]
  },
  {
   "cell_type": "code",
   "execution_count": 3,
   "metadata": {},
   "outputs": [
    {
     "name": "stdout",
     "output_type": "stream",
     "text": [
      "Using 'hackathon' profile\n"
     ]
    }
   ],
   "source": [
    "profile_name = profile_widget.value\n",
    "print(\"Using '{}' profile\".format(profile_name))"
   ]
  },
  {
   "cell_type": "code",
   "execution_count": 4,
   "metadata": {},
   "outputs": [],
   "source": [
    "cortex_session = boto3.session.Session(profile_name='hackathon')"
   ]
  },
  {
   "cell_type": "markdown",
   "metadata": {},
   "source": [
    "### Step C - Enter Analysis Info\n",
    "\n",
    "* Enter the name of the analysis\n",
    "* Enter the date you started it"
   ]
  },
  {
   "cell_type": "code",
   "execution_count": null,
   "metadata": {},
   "outputs": [],
   "source": [
    "analysis_name = 'DNambi Test Analysis'\n",
    "analysis_start_date = '2018-12-01' # optionally make this an IPyWidget\n",
    " # with a date picker"
   ]
  },
  {
   "cell_type": "code",
   "execution_count": 15,
   "metadata": {},
   "outputs": [],
   "source": [
    "# look up the status\n",
    "client = cortex_session.client('batch', region_name='us-west-2')\n",
    "job_queue = 'dnambi-hackathon-queue'\n",
    "#job_status = \n",
    "batches = client.list_jobs(jobQueue=job_queue, jobStatus='SUCCEEDED')\n",
    "# identify your batch\n",
    "#TO DO\n",
    "\n",
    "# check the state of your batch\n",
    "#TO DO"
   ]
  },
  {
   "cell_type": "code",
   "execution_count": 16,
   "metadata": {},
   "outputs": [
    {
     "name": "stdout",
     "output_type": "stream",
     "text": [
      "{'ResponseMetadata': {'RequestId': '833f8570-fa3c-11e8-84a4-3fa9288943d2', 'HTTPStatusCode': 200, 'HTTPHeaders': {'date': 'Fri, 07 Dec 2018 16:24:04 GMT', 'content-type': 'application/json', 'content-length': '800', 'connection': 'keep-alive', 'x-amzn-requestid': '833f8570-fa3c-11e8-84a4-3fa9288943d2', 'x-amz-apigw-id': 'Ri25pGVcvHcF3Xg=', 'x-amzn-trace-id': 'Root=1-5c0a9ea4-961d3c765efec98018d3ff29;Sampled=0'}, 'RetryAttempts': 0}, 'jobSummaryList': [{'jobId': 'ff760645-1958-41f4-b076-31ae9bec9ae9', 'jobName': 'test-list-job-22', 'createdAt': 1544155545891, 'status': 'SUCCEEDED', 'statusReason': 'Essential container in task exited', 'startedAt': 1544155596360, 'stoppedAt': 1544155618053, 'container': {'exitCode': 0}}, {'jobId': 'accdc07b-da31-4b45-a82b-d1047e0dfc83', 'jobName': 'dnambi-boto3-test-job', 'createdAt': 1544198973500, 'status': 'SUCCEEDED', 'statusReason': 'Essential container in task exited', 'startedAt': 1544199131208, 'stoppedAt': 1544199136644, 'container': {'exitCode': 0}}, {'jobId': 'bdf51e4e-f621-46be-8025-c0336e471845', 'jobName': 'dnambi-boto3-test-job-2', 'createdAt': 1544199031412, 'status': 'SUCCEEDED', 'statusReason': 'Essential container in task exited', 'startedAt': 1544199098097, 'stoppedAt': 1544199103906, 'container': {'exitCode': 0}}]}\n"
     ]
    }
   ],
   "source": [
    "print(batches)"
   ]
  },
  {
   "cell_type": "markdown",
   "metadata": {},
   "source": [
    "### Step D - Watch the processing\n",
    "\n",
    "* Add the ability to email somene when it's done?"
   ]
  },
  {
   "cell_type": "code",
   "execution_count": null,
   "metadata": {},
   "outputs": [],
   "source": []
  },
  {
   "cell_type": "code",
   "execution_count": null,
   "metadata": {},
   "outputs": [],
   "source": []
  },
  {
   "cell_type": "markdown",
   "metadata": {},
   "source": [
    "### Step E - Download analysis output"
   ]
  },
  {
   "cell_type": "code",
   "execution_count": 1,
   "metadata": {},
   "outputs": [],
   "source": [
    "local_folder_destination = 'Users/dnambi/Documents/hackathon/output'"
   ]
  },
  {
   "cell_type": "code",
   "execution_count": 4,
   "metadata": {},
   "outputs": [
    {
     "ename": "NameError",
     "evalue": "name 'boto3' is not defined",
     "output_type": "error",
     "traceback": [
      "\u001b[0;31m---------------------------------------------------------------------------\u001b[0m",
      "\u001b[0;31mNameError\u001b[0m                                 Traceback (most recent call last)",
      "\u001b[0;32m<ipython-input-4-0db7b3a38a0b>\u001b[0m in \u001b[0;36m<module>\u001b[0;34m()\u001b[0m\n\u001b[1;32m      1\u001b[0m \u001b[0ms3_bucket\u001b[0m \u001b[0;34m=\u001b[0m \u001b[0;34m'fhc-egreene-lab-hackathon'\u001b[0m\u001b[0;34m\u001b[0m\u001b[0m\n\u001b[1;32m      2\u001b[0m \u001b[0;34m\u001b[0m\u001b[0m\n\u001b[0;32m----> 3\u001b[0;31m \u001b[0ms3_client\u001b[0m \u001b[0;34m=\u001b[0m \u001b[0mboto3\u001b[0m\u001b[0;34m.\u001b[0m\u001b[0mclient\u001b[0m\u001b[0;34m(\u001b[0m\u001b[0;34m's3'\u001b[0m\u001b[0;34m)\u001b[0m\u001b[0;34m\u001b[0m\u001b[0m\n\u001b[0m",
      "\u001b[0;31mNameError\u001b[0m: name 'boto3' is not defined"
     ]
    }
   ],
   "source": [
    "s3_bucket = 'fhc-egreene-lab-hackathon'\n",
    "\n",
    "s3_client = boto3.client('s3')"
   ]
  },
  {
   "cell_type": "markdown",
   "metadata": {},
   "source": [
    "### Step F - Download analysis processing logs"
   ]
  },
  {
   "cell_type": "code",
   "execution_count": null,
   "metadata": {},
   "outputs": [],
   "source": []
  },
  {
   "cell_type": "code",
   "execution_count": null,
   "metadata": {},
   "outputs": [],
   "source": []
  }
 ],
 "metadata": {
  "kernelspec": {
   "display_name": "Python 3",
   "language": "python",
   "name": "python3"
  },
  "language_info": {
   "codemirror_mode": {
    "name": "ipython",
    "version": 3
   },
   "file_extension": ".py",
   "mimetype": "text/x-python",
   "name": "python",
   "nbconvert_exporter": "python",
   "pygments_lexer": "ipython3",
   "version": "3.7.0"
  }
 },
 "nbformat": 4,
 "nbformat_minor": 2
}
